{
 "cells": [
  {
   "cell_type": "code",
   "execution_count": null,
   "id": "fa415a65-74de-438e-bdcb-8525e0bd67b0",
   "metadata": {},
   "outputs": [],
   "source": [
    "import pandas as pd\n",
    "import matplotlib.pyplot as plt\n",
    "import numpy as np\n",
    "\n",
    "tidy = pd.read_csv('../data/processed/tidy_data.csv')\n",
    "\n",
    "# 1) Trust boxplot\n",
    "plt.figure()\n",
    "tidy.boxplot(column='trust_post', by='condition')\n",
    "plt.title('Post-task Trust by Condition')\n",
    "plt.suptitle('')\n",
    "plt.xlabel('Condition')\n",
    "plt.ylabel('Trust (1–5)')\n",
    "plt.tight_layout()\n",
    "plt.savefig('../outputs/figures/trust_boxplot.png', dpi=300)\n",
    "\n",
    "# 2) Decision time mean + 95% CI\n",
    "plt.figure()\n",
    "means = tidy.groupby('condition')['mean_rt'].mean()\n",
    "ses = tidy.groupby('condition')['mean_rt'].sem()\n",
    "cis = 1.96 * ses\n",
    "x = np.arange(len(means))\n",
    "plt.errorbar(x, means.values, yerr=cis.values, fmt='o')\n",
    "plt.xticks(x, means.index)\n",
    "plt.ylabel('Decision time (s)')\n",
    "plt.title('Mean Decision Time with 95% CI')\n",
    "plt.tight_layout()\n",
    "plt.savefig('../outputs/figures/decision_time.png', dpi=300)\n",
    "\n",
    "# 3) Acceptance rate bar\n",
    "plt.figure()\n",
    "acc = tidy.groupby('condition')['accept_rate'].mean()\n",
    "plt.bar(acc.index, acc.values)\n",
    "plt.ylabel('Acceptance rate (proportion)')\n",
    "plt.title('Acceptance Rate by Condition')\n",
    "plt.tight_layout()\n",
    "plt.savefig('../outputs/figures/acceptance_rate.png', dpi=300)\n"
   ]
  }
 ],
 "metadata": {
  "kernelspec": {
   "display_name": "Python 3 (ipykernel)",
   "language": "python",
   "name": "python3"
  },
  "language_info": {
   "codemirror_mode": {
    "name": "ipython",
    "version": 3
   },
   "file_extension": ".py",
   "mimetype": "text/x-python",
   "name": "python",
   "nbconvert_exporter": "python",
   "pygments_lexer": "ipython3",
   "version": "3.11.7"
  }
 },
 "nbformat": 4,
 "nbformat_minor": 5
}
