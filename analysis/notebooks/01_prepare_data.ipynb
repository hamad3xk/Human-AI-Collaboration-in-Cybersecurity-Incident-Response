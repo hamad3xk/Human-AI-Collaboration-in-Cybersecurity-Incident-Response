{
 "cells": [
  {
   "cell_type": "code",
   "execution_count": null,
   "id": "1597caac-dfa4-4050-a4d6-202d1bc08003",
   "metadata": {},
   "outputs": [],
   "source": [
    "import pandas as pd\n",
    "\n",
    "logs = pd.read_csv('../data/raw/trial_logs.csv')\n",
    "surv = pd.read_csv('../data/raw/survey_responses.csv')\n",
    "\n",
    "# aggregates\n",
    "agg = (logs\n",
    "       .groupby(['participant_id','condition'], as_index=False)\n",
    "       .agg(accept_rate=('decision', lambda s: (s=='accept').mean()),\n",
    "            investigate_rate=('decision', lambda s: (s=='investigate').mean()),\n",
    "            mean_rt=('rt_seconds','mean'))\n",
    "      )\n",
    "\n",
    "tidy = (surv\n",
    "        .merge(agg, on=['participant_id','condition'], how='inner')\n",
    "       )\n",
    "\n",
    "tidy.to_csv('../data/processed/tidy_data.csv', index=False)\n",
    "tidy.head()\n"
   ]
  }
 ],
 "metadata": {
  "kernelspec": {
   "display_name": "Python 3 (ipykernel)",
   "language": "python",
   "name": "python3"
  },
  "language_info": {
   "codemirror_mode": {
    "name": "ipython",
    "version": 3
   },
   "file_extension": ".py",
   "mimetype": "text/x-python",
   "name": "python",
   "nbconvert_exporter": "python",
   "pygments_lexer": "ipython3",
   "version": "3.11.7"
  }
 },
 "nbformat": 4,
 "nbformat_minor": 5
}
