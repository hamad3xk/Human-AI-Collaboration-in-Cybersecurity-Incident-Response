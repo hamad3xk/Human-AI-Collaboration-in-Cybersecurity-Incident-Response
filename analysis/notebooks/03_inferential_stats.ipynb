{
 "cells": [
  {
   "cell_type": "code",
   "execution_count": null,
   "id": "dbc1e309-bfb9-4b1f-bfa8-614bb2491edf",
   "metadata": {},
   "outputs": [],
   "source": [
    "import pandas as pd\n",
    "from scipy import stats\n",
    "import numpy as np\n",
    "\n",
    "tidy = pd.read_csv('../data/processed/tidy_data.csv')\n",
    "\n",
    "def cohens_d(x, y):\n",
    "    nx, ny = len(x), len(y)\n",
    "    s_p = np.sqrt(((nx-1)*x.var(ddof=1) + (ny-1)*y.var(ddof=1)) / (nx+ny-2))\n",
    "    return (x.mean() - y.mean()) / s_p\n",
    "\n",
    "def print_ttest(var):\n",
    "    a = tidy[tidy['condition']=='A'][var].dropna()\n",
    "    b = tidy[tidy['condition']=='B'][var].dropna()\n",
    "\n",
    "    # Shapiro\n",
    "    SW_a = stats.shapiro(a)\n",
    "    SW_b = stats.shapiro(b)\n",
    "    # Levene\n",
    "    lev = stats.levene(a, b)\n",
    "\n",
    "    # t-test (Welch if Levene p<.05)\n",
    "    if lev.pvalue < 0.05:\n",
    "        t = stats.ttest_ind(a, b, equal_var=False)\n",
    "        equal_var = False\n",
    "    else:\n",
    "        t = stats.ttest_ind(a, b, equal_var=True)\n",
    "        equal_var = True\n",
    "\n",
    "    d = cohens_d(a, b)\n",
    "\n",
    "    print(f'=== {var} ===')\n",
    "    print(f'Shapiro A p={SW_a.pvalue:.3f}, B p={SW_b.pvalue:.3f}')\n",
    "    print(f\"Levene p={lev.pvalue:.3f}  (equal_var={equal_var})\")\n",
    "    print(f\"t={t.statistic:.2f}, p={t.pvalue:.3f}, Cohen's d={d:.2f}\\n\")\n",
    "\n",
    "for v in ['trust_post','mean_rt','accept_rate']:\n",
    "    print_ttest(v)\n"
   ]
  }
 ],
 "metadata": {
  "kernelspec": {
   "display_name": "Python 3 (ipykernel)",
   "language": "python",
   "name": "python3"
  },
  "language_info": {
   "codemirror_mode": {
    "name": "ipython",
    "version": 3
   },
   "file_extension": ".py",
   "mimetype": "text/x-python",
   "name": "python",
   "nbconvert_exporter": "python",
   "pygments_lexer": "ipython3",
   "version": "3.11.7"
  }
 },
 "nbformat": 4,
 "nbformat_minor": 5
}
