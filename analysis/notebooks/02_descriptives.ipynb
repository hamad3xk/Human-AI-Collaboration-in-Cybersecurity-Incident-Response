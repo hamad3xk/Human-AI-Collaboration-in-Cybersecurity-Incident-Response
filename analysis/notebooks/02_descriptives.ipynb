{
 "cells": [
  {
   "cell_type": "code",
   "execution_count": null,
   "id": "b56ed022-cde3-4981-ae6f-8be6e0b03ca5",
   "metadata": {},
   "outputs": [],
   "source": [
    "import pandas as pd\n",
    "import numpy as np\n",
    "\n",
    "tidy = pd.read_csv('../data/processed/tidy_data.csv')\n",
    "vars_of_interest = ['trust_post','mean_rt','accept_rate']\n",
    "\n",
    "def mean_sd(df, col):\n",
    "    return pd.Series({'N': df[col].notna().sum(),\n",
    "                      'Mean': df[col].mean(),\n",
    "                      'SD': df[col].std(ddof=1)})\n",
    "\n",
    "rows = []\n",
    "for col in vars_of_interest:\n",
    "    for cond in ['A','B']:\n",
    "        m = mean_sd(tidy[tidy['condition']==cond], col)\n",
    "        m['Variable'] = col\n",
    "        m['Condition'] = cond\n",
    "        rows.append(m)\n",
    "\n",
    "desc = pd.DataFrame(rows)[['Variable','Condition','N','Mean','SD']]\n",
    "desc.to_csv('../outputs/tables/descriptive_by_condition.csv', index=False)\n",
    "desc\n"
   ]
  }
 ],
 "metadata": {
  "kernelspec": {
   "display_name": "Python 3 (ipykernel)",
   "language": "python",
   "name": "python3"
  },
  "language_info": {
   "codemirror_mode": {
    "name": "ipython",
    "version": 3
   },
   "file_extension": ".py",
   "mimetype": "text/x-python",
   "name": "python",
   "nbconvert_exporter": "python",
   "pygments_lexer": "ipython3",
   "version": "3.11.7"
  }
 },
 "nbformat": 4,
 "nbformat_minor": 5
}
