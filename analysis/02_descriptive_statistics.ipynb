{
 "cells": [
  {
   "cell_type": "markdown",
   "id": "b1e79738",
   "metadata": {},
   "source": [
    "# 02 · Descriptive Statistics\n",
    "\n",
    "Generates descriptive tables and LaTeX-ready outputs for the manuscript (Table 1). Also exports figures (boxplots/bar charts) into `../figures/`.\n"
   ]
  },
  {
   "cell_type": "code",
   "execution_count": null,
   "id": "3bc19e2e",
   "metadata": {},
   "outputs": [],
   "source": [
    "# Imports\n",
    "import pandas as pd\n",
    "import numpy as np\n",
    "from pathlib import Path\n",
    "import matplotlib.pyplot as plt  # Use matplotlib only (per project rules)\n",
    "\n",
    "DATA_DERIVED = Path('../data/derived')\n",
    "FIG_DIR = Path('../figures')\n",
    "TAB_DIR = Path('../tables')\n",
    "FIG_DIR.mkdir(parents=True, exist_ok=True)\n",
    "TAB_DIR.mkdir(parents=True, exist_ok=True)\n"
   ]
  },
  {
   "cell_type": "markdown",
   "id": "18f85cee",
   "metadata": {},
   "source": [
    "## Load clean dataset"
   ]
  },
  {
   "cell_type": "code",
   "execution_count": null,
   "id": "9ec648dc",
   "metadata": {},
   "outputs": [],
   "source": [
    "clean_path = DATA_DERIVED / 'clean_data.csv'\n",
    "df = pd.read_csv(clean_path)\n",
    "df['condition_label'] = df['condition_label'].astype('category')\n",
    "display(df.head())"
   ]
  },
  {
   "cell_type": "markdown",
   "id": "7990d6b5",
   "metadata": {},
   "source": [
    "## Summary table (by condition)\n",
    "Computes mean and SD for the primary DVs: post-task trust, decision time, and acceptance rate."
   ]
  },
  {
   "cell_type": "code",
   "execution_count": null,
   "id": "9ee55fce",
   "metadata": {},
   "outputs": [],
   "source": [
    "def mean_sd(series):\n",
    "    return pd.Series({'M': series.mean().round(2), 'SD': series.std(ddof=1).round(2)})\n",
    "\n",
    "descriptives = (df\n",
    "    .groupby('condition_label')\n",
    "    .agg(trust_post_stats=('trust_post', mean_sd),\n",
    "         decision_time_stats=('mean_decision_time_s', mean_sd),\n",
    "         acceptance_rate_stats=('acceptance_rate', mean_sd)))\n",
    "\n",
    "# Flatten multiindex\n",
    "descriptives = pd.concat({\n",
    "    'Trust (post, 1–5)': descriptives['trust_post_stats'],\n",
    "    'Decision time (s)': descriptives['decision_time_stats'],\n",
    "    'Acceptance rate (%)': descriptives['acceptance_rate_stats'],\n",
    "}, axis=1)\n",
    "\n",
    "display(descriptives)"
   ]
  },
  {
   "cell_type": "markdown",
   "id": "8b672a91",
   "metadata": {},
   "source": [
    "## Export LaTeX table"
   ]
  },
  {
   "cell_type": "code",
   "execution_count": null,
   "id": "d9655cbb",
   "metadata": {},
   "outputs": [],
   "source": [
    "latex_table = descriptives.to_latex(escape=False, bold_rows=True)\n",
    "with open(TAB_DIR / 'descriptives.tex', 'w') as f:\n",
    "    f.write(latex_table)\n",
    "print(f'Saved LaTeX table to { (TAB_DIR / 'descriptives.tex').resolve() }')"
   ]
  },
  {
   "cell_type": "markdown",
   "id": "215e0377",
   "metadata": {},
   "source": [
    "## Figures\n",
    "Create manuscript figures using **matplotlib** only. Do not set custom colors; one chart per figure."
   ]
  },
  {
   "cell_type": "code",
   "execution_count": null,
   "id": "6b1c103f",
   "metadata": {},
   "outputs": [],
   "source": [
    "# Boxplot: Trust (post)\n",
    "plt.figure()\n",
    "df.boxplot(column='trust_post', by='condition_label')\n",
    "plt.title('Post-task Trust by Condition')\n",
    "plt.suptitle('')\n",
    "plt.xlabel('Condition')\n",
    "plt.ylabel('Trust (1–5)')\n",
    "fig_path = FIG_DIR / 'trust_boxplot.png'\n",
    "plt.savefig(fig_path, dpi=300, bbox_inches='tight')\n",
    "plt.close()\n",
    "print(f'Saved figure: {fig_path.resolve()}')"
   ]
  },
  {
   "cell_type": "code",
   "execution_count": null,
   "id": "a63560c5",
   "metadata": {},
   "outputs": [],
   "source": [
    "# Bar chart: Mean decision time\n",
    "plt.figure()\n",
    "means = df.groupby('condition_label')['mean_decision_time_s'].mean()\n",
    "means.plot(kind='bar')\n",
    "plt.title('Mean Decision Time by Condition')\n",
    "plt.xlabel('Condition')\n",
    "plt.ylabel('Decision time (s)')\n",
    "fig_path = FIG_DIR / 'decision_time.png'\n",
    "plt.savefig(fig_path, dpi=300, bbox_inches='tight')\n",
    "plt.close()\n",
    "print(f'Saved figure: {fig_path.resolve()}')"
   ]
  },
  {
   "cell_type": "code",
   "execution_count": null,
   "id": "b0de787b",
   "metadata": {},
   "outputs": [],
   "source": [
    "# Bar chart: Acceptance rate\n",
    "plt.figure()\n",
    "acc_means = df.groupby('condition_label')['acceptance_rate'].mean()\n",
    "acc_means.plot(kind='bar')\n",
    "plt.title('Acceptance Rate by Condition')\n",
    "plt.xlabel('Condition')\n",
    "plt.ylabel('Acceptance rate (%))')\n",
    "fig_path = FIG_DIR / 'acceptance_rate.png'\n",
    "plt.savefig(fig_path, dpi=300, bbox_inches='tight')\n",
    "plt.close()\n",
    "print(f'Saved figure: {fig_path.resolve()}')"
   ]
  },
  {
   "cell_type": "markdown",
   "id": "968f115e",
   "metadata": {},
   "source": [
    "> Next: run `03_inferential_tests.ipynb` for assumptions and hypothesis testing."
   ]
  }
 ],
 "metadata": {},
 "nbformat": 4,
 "nbformat_minor": 5
}
